{
 "cells": [
  {
   "cell_type": "code",
   "execution_count": 1,
   "id": "77651c8f-0dd8-48cd-92bd-2301cba3bc37",
   "metadata": {},
   "outputs": [],
   "source": [
    "# Cassady Cook\n",
    "# Below is my code for the Individual Assignment about Wine Reviews."
   ]
  },
  {
   "cell_type": "code",
   "execution_count": 2,
   "id": "738d9986-4613-49ed-85f7-d2ce368ce780",
   "metadata": {},
   "outputs": [
    {
     "data": {
      "text/plain": [
       "129971"
      ]
     },
     "execution_count": 2,
     "metadata": {},
     "output_type": "execute_result"
    }
   ],
   "source": [
    "import json\n",
    "with open('wine.json') as file_handle:\n",
    "    dataW = json.load(file_handle)\n",
    "len(dataW)"
   ]
  },
  {
   "cell_type": "markdown",
   "id": "2ad907f9-689c-4406-a975-6611f846a3f8",
   "metadata": {},
   "source": [
    "## Exercise 2\n",
    ">What's the length of the last review?"
   ]
  },
  {
   "cell_type": "code",
   "execution_count": 3,
   "id": "6b5b6a7a-072c-4e2f-8af3-fe89be87998f",
   "metadata": {
    "scrolled": true,
    "tags": []
   },
   "outputs": [],
   "source": [
    "for length in dataW:\n",
    "    length_description = length['description']\n",
    "    length_split = length_description.split()\n",
    "    length[\"length\"]= len(length_split)"
   ]
  },
  {
   "cell_type": "code",
   "execution_count": 4,
   "id": "c6eaaa82-5098-4544-863f-f6304fe7e642",
   "metadata": {},
   "outputs": [
    {
     "data": {
      "text/plain": [
       "27"
      ]
     },
     "execution_count": 4,
     "metadata": {},
     "output_type": "execute_result"
    }
   ],
   "source": [
    "dataW[-1]['length']"
   ]
  },
  {
   "cell_type": "markdown",
   "id": "0601ee38-a983-4bb0-b817-d29ab32447e6",
   "metadata": {},
   "source": [
    "## Exercise 3\n",
    ">How many different countries have wines reviewed in the dataset?"
   ]
  },
  {
   "cell_type": "code",
   "execution_count": 5,
   "id": "e22a00d5-e7bb-4442-844b-36be620cc92c",
   "metadata": {},
   "outputs": [
    {
     "data": {
      "text/plain": [
       "43"
      ]
     },
     "execution_count": 5,
     "metadata": {},
     "output_type": "execute_result"
    }
   ],
   "source": [
    "countryID= []\n",
    "for distinct_c in dataW:\n",
    "    if distinct_c['country'] in countryID:\n",
    "        pass\n",
    "    elif distinct_c['country'] == None:\n",
    "        pass\n",
    "    else:\n",
    "        countryID.append(distinct_c['country'])\n",
    "len(countryID)"
   ]
  },
  {
   "cell_type": "markdown",
   "id": "d06dc37b-455a-4e4d-a749-e768313262ad",
   "metadata": {},
   "source": [
    "## Exercise 4\n",
    ">Build a dictionary with the following structure:\n",
    "\n",
    ">{country: number of wines reviewed coming from that country}\n",
    "\n",
    ">{\"Spain\": 3, \"Italy\": 2}"
   ]
  },
  {
   "cell_type": "code",
   "execution_count": null,
   "id": "985f6b91-b536-4c6f-b438-7926f169d803",
   "metadata": {
    "scrolled": true,
    "tags": []
   },
   "outputs": [],
   "source": []
  },
  {
   "cell_type": "code",
   "execution_count": 6,
   "id": "fc605a2b-e50d-4503-b0e4-37db04e24c9b",
   "metadata": {},
   "outputs": [],
   "source": [
    "all_countries = []\n",
    "for review in dataW:\n",
    "    if review['country'] == 'None':\n",
    "        pass\n",
    "    else:\n",
    "        all_countries.append(review['country'])\n"
   ]
  },
  {
   "cell_type": "code",
   "execution_count": 7,
   "id": "7012a39a-37cb-4a39-9023-a4f9e3132603",
   "metadata": {},
   "outputs": [
    {
     "name": "stdout",
     "output_type": "stream",
     "text": [
      "This dictionary includes the number of reviews for each distinct country. We are excluding reviews that have None for country.\n",
      "{'Italy': 19540, 'Portugal': 5691, 'US': 54504, 'Spain': 6645, 'France': 22093, 'Germany': 2165, 'Argentina': 3800, 'Chile': 4472, 'Australia': 2329, 'Austria': 3345, 'South Africa': 1401, 'New Zealand': 1419, 'Israel': 505, 'Hungary': 146, 'Greece': 466, 'Romania': 120, 'Mexico': 70, 'Canada': 257, 'Turkey': 90, 'Czech Republic': 12, 'Slovenia': 87, 'Luxembourg': 6, 'Croatia': 73, 'Georgia': 86, 'Uruguay': 109, 'England': 74, 'Lebanon': 35, 'Serbia': 12, 'Brazil': 52, 'Moldova': 59, 'Morocco': 28, 'Peru': 16, 'India': 9, 'Bulgaria': 141, 'Cyprus': 11, 'Armenia': 2, 'Switzerland': 7, 'Bosnia and Herzegovina': 2, 'Ukraine': 14, 'Slovakia': 1, 'Macedonia': 12, 'China': 1, 'Egypt': 1}\n"
     ]
    }
   ],
   "source": [
    "print(\"This dictionary includes the number of reviews for each distinct country. We are excluding reviews that have None for country.\")\n",
    "reviews = {}\n",
    "for country in countryID:\n",
    "    num = all_countries.count(country)\n",
    "    key = {country : num}\n",
    "    reviews.update(key)\n",
    "print(reviews)\n"
   ]
  },
  {
   "cell_type": "markdown",
   "id": "687c7446-ff4d-4c6e-89ca-28d73c7a4389",
   "metadata": {},
   "source": [
    "## Exercise 5\n",
    ">Build a dictionary with the following structure:\n",
    "\n",
    ">{country: average points of wines coming from that country}\n",
    "\n",
    ">For example:\n",
    "\n",
    ">{\"Spain\": 9.25, \"Italy\": 9.5}"
   ]
  },
  {
   "cell_type": "code",
   "execution_count": 8,
   "id": "146d1805-b202-4e08-9cbd-013501fc1fda",
   "metadata": {
    "scrolled": true,
    "tags": []
   },
   "outputs": [
    {
     "name": "stdout",
     "output_type": "stream",
     "text": [
      "This dictionary includes the average points for wines of each distinct country\n",
      "{'US': 88.564, 'Italy': 88.562, 'France': 88.845, 'Germany': 89.852, 'Argentina': 86.71, 'Spain': 87.288, 'Chile': 86.494, 'Portugal': 88.25, 'Australia': 88.581, 'South Africa': 88.056, 'Israel': 88.471, 'Austria': 90.101, 'Greece': 87.283, 'New Zealand': 88.303, 'Hungary': 89.192, 'Mexico': 85.257, 'Romania': 86.4, 'Czech Republic': 87.25, 'Canada': 89.37, 'Turkey': 88.089, 'Croatia': 87.219, 'Uruguay': 86.752, 'Lebanon': 87.686, 'Georgia': 87.686, 'Slovenia': 88.069, 'England': 91.581, 'Bulgaria': 87.936, 'Moldova': 87.203, 'Brazil': 84.673, 'Peru': 83.562, 'Morocco': 88.571, 'Switzerland': 88.571, 'Serbia': 87.5, 'Cyprus': 87.182, 'India': 90.222, 'Ukraine': 84.071, 'Macedonia': 86.833, 'Luxembourg': 88.667, 'Armenia': 87.5, 'Bosnia and Herzegovina': 86.5}\n"
     ]
    }
   ],
   "source": [
    "print(\"This dictionary includes the average points for wines of each distinct country\")\n",
    "points = {}\n",
    "c_count = {}\n",
    "avg_points = {}\n",
    "for review in dataW:\n",
    "    rc = review['country']\n",
    "    pt = (review['points'])\n",
    "    if rc == None:\n",
    "        pass\n",
    "    elif rc not in points:\n",
    "        points[rc] = int(pt)\n",
    "        c_count[rc] = 1\n",
    "    else:\n",
    "        points[rc] += int(pt)\n",
    "        c_count[rc] += 1\n",
    "        avg_points[rc] = round(points[rc]/c_count[rc], 3)\n",
    "\n",
    "print(avg_points)"
   ]
  },
  {
   "cell_type": "markdown",
   "id": "41cdc876-7256-47b3-9088-d2c4fc4fa150",
   "metadata": {},
   "source": [
    "## Exercise 6\n",
    ">What's the country that produces the wines with the highest average rating?\n"
   ]
  },
  {
   "cell_type": "code",
   "execution_count": 9,
   "id": "de478418-7e9d-4274-8ae6-adb6eff0aee4",
   "metadata": {},
   "outputs": [
    {
     "name": "stdout",
     "output_type": "stream",
     "text": [
      "{'England': 91.581}\n"
     ]
    }
   ],
   "source": [
    "rating = 1\n",
    "for country, avg in avg_points.items():\n",
    "    key = {country : avg}\n",
    "    if avg > rating:\n",
    "        rating = avg\n",
    "        highest = key\n",
    "    else:\n",
    "        pass\n",
    "print(highest)"
   ]
  },
  {
   "cell_type": "markdown",
   "id": "1391b3ab-0156-4606-aa43-54cd2618cfda",
   "metadata": {},
   "source": [
    "## Exercise 7\n",
    ">Update each wine's description by adding at the end of each description the following piece of text:\n",
    "\n",
    ">\"This is a {designation} from {country} that scored {points} points\"\n",
    "\n",
    ">What is the resulting description of the last review?"
   ]
  },
  {
   "cell_type": "code",
   "execution_count": 10,
   "id": "98e3ecaf-cb15-4f75-a50a-530f46dfa886",
   "metadata": {},
   "outputs": [],
   "source": [
    "for d in dataW:\n",
    "    if d['country'] == None:\n",
    "        pass\n",
    "    else:\n",
    "        d['description'] = d['description'] + str(\" This is a \") + str(d['designation']) + str(\" from \") + str(d['country']) + str(\" that scored \") + str(d['points']) + str(\" points.\")\n",
    "       "
   ]
  },
  {
   "cell_type": "code",
   "execution_count": 11,
   "id": "7160a9be-18a5-4907-8e79-13ef740665c8",
   "metadata": {},
   "outputs": [
    {
     "data": {
      "text/plain": [
       "'Big, rich and off-dry, this is powered by intense spiciness and rounded texture. Lychees dominate the fruit profile, giving an opulent feel to the aftertaste. Drink now. This is a Lieu-dit Harth Cuvée Caroline from France that scored 90 points.'"
      ]
     },
     "execution_count": 11,
     "metadata": {},
     "output_type": "execute_result"
    }
   ],
   "source": [
    "dataW[-1]['description']"
   ]
  },
  {
   "cell_type": "markdown",
   "id": "8fa8c76c-f31d-4e4b-a2de-ab3f2f8af4c4",
   "metadata": {},
   "source": [
    "## Exercise 8\n",
    "> What is the proportion of wine reviewers that have a Twitter account?"
   ]
  },
  {
   "cell_type": "code",
   "execution_count": 12,
   "id": "b989149a-dd66-4bca-82d2-350a9725bf9e",
   "metadata": {},
   "outputs": [
    {
     "name": "stdout",
     "output_type": "stream",
     "text": [
      "The proportion of wine reviewers that have a Twitter handle is 0.7894736842105263\n"
     ]
    }
   ],
   "source": [
    "people = set()\n",
    "yes_twitter = set()\n",
    "for ppl in dataW:\n",
    "    if ppl['taster_name'] == None:\n",
    "        pass\n",
    "    else:\n",
    "        people.add(ppl['taster_name'])\n",
    "    if ppl['taster_twitter_handle'] == None:\n",
    "        pass\n",
    "    else:\n",
    "        yes_twitter.add(ppl['taster_twitter_handle'])\n",
    "print(\"The proportion of wine reviewers that have a Twitter handle is \" + str((len(yes_twitter)/len(people))))"
   ]
  },
  {
   "cell_type": "code",
   "execution_count": null,
   "id": "cff12f38-3ee7-4f6c-95ca-82dd62a7e00a",
   "metadata": {},
   "outputs": [],
   "source": []
  },
  {
   "cell_type": "code",
   "execution_count": null,
   "id": "191588df-0eba-4608-a092-6df470bb75fe",
   "metadata": {},
   "outputs": [],
   "source": []
  }
 ],
 "metadata": {
  "kernelspec": {
   "display_name": "Python 3",
   "language": "python",
   "name": "python3"
  },
  "language_info": {
   "codemirror_mode": {
    "name": "ipython",
    "version": 3
   },
   "file_extension": ".py",
   "mimetype": "text/x-python",
   "name": "python",
   "nbconvert_exporter": "python",
   "pygments_lexer": "ipython3",
   "version": "3.8.8"
  }
 },
 "nbformat": 4,
 "nbformat_minor": 5
}
