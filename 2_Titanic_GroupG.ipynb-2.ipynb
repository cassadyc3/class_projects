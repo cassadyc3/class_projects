{
 "cells": [
  {
   "cell_type": "markdown",
   "id": "1391830b-77f9-409b-a04f-eb6b4eb6d5fd",
   "metadata": {
    "tags": []
   },
   "source": [
    "## 🚢 Question 1 🚢\n",
    ">\n",
    ">Read the dataset correctly using `pandas`, using an appropriate column as index. \n",
    ">\n",
    ">What is the PassengerId of \"Mr. Robert William Norman\"?"
   ]
  },
  {
   "cell_type": "code",
   "execution_count": 24,
   "id": "dca657c3-ecf5-4f8e-a052-1916c2f2305c",
   "metadata": {},
   "outputs": [
    {
     "data": {
      "text/html": [
       "<div>\n",
       "<style scoped>\n",
       "    .dataframe tbody tr th:only-of-type {\n",
       "        vertical-align: middle;\n",
       "    }\n",
       "\n",
       "    .dataframe tbody tr th {\n",
       "        vertical-align: top;\n",
       "    }\n",
       "\n",
       "    .dataframe thead th {\n",
       "        text-align: right;\n",
       "    }\n",
       "</style>\n",
       "<table border=\"1\" class=\"dataframe\">\n",
       "  <thead>\n",
       "    <tr style=\"text-align: right;\">\n",
       "      <th></th>\n",
       "      <th>Survived</th>\n",
       "      <th>Pclass</th>\n",
       "      <th>Name</th>\n",
       "      <th>Sex</th>\n",
       "      <th>Age</th>\n",
       "      <th>SibSp</th>\n",
       "      <th>Parch</th>\n",
       "      <th>Ticket</th>\n",
       "      <th>Fare</th>\n",
       "      <th>Cabin</th>\n",
       "      <th>Embarked</th>\n",
       "    </tr>\n",
       "    <tr>\n",
       "      <th>PassengerId</th>\n",
       "      <th></th>\n",
       "      <th></th>\n",
       "      <th></th>\n",
       "      <th></th>\n",
       "      <th></th>\n",
       "      <th></th>\n",
       "      <th></th>\n",
       "      <th></th>\n",
       "      <th></th>\n",
       "      <th></th>\n",
       "      <th></th>\n",
       "    </tr>\n",
       "  </thead>\n",
       "  <tbody>\n",
       "    <tr>\n",
       "      <th>1</th>\n",
       "      <td>0</td>\n",
       "      <td>3</td>\n",
       "      <td>Mr. Owen Harris</td>\n",
       "      <td>male</td>\n",
       "      <td>22.0</td>\n",
       "      <td>1</td>\n",
       "      <td>0</td>\n",
       "      <td>A/5 21171</td>\n",
       "      <td>7.2500</td>\n",
       "      <td>NaN</td>\n",
       "      <td>S</td>\n",
       "    </tr>\n",
       "    <tr>\n",
       "      <th>2</th>\n",
       "      <td>1</td>\n",
       "      <td>1</td>\n",
       "      <td>Mrs. John Bradley (Florence Briggs Thayer)</td>\n",
       "      <td>female</td>\n",
       "      <td>38.0</td>\n",
       "      <td>1</td>\n",
       "      <td>0</td>\n",
       "      <td>PC 17599</td>\n",
       "      <td>71.2833</td>\n",
       "      <td>C85</td>\n",
       "      <td>C</td>\n",
       "    </tr>\n",
       "    <tr>\n",
       "      <th>3</th>\n",
       "      <td>1</td>\n",
       "      <td>3</td>\n",
       "      <td>Miss. Laina</td>\n",
       "      <td>female</td>\n",
       "      <td>26.0</td>\n",
       "      <td>0</td>\n",
       "      <td>0</td>\n",
       "      <td>STON/O2. 3101282</td>\n",
       "      <td>7.9250</td>\n",
       "      <td>NaN</td>\n",
       "      <td>S</td>\n",
       "    </tr>\n",
       "    <tr>\n",
       "      <th>4</th>\n",
       "      <td>1</td>\n",
       "      <td>1</td>\n",
       "      <td>Mrs. Jacques Heath (Lily May Peel)</td>\n",
       "      <td>female</td>\n",
       "      <td>35.0</td>\n",
       "      <td>1</td>\n",
       "      <td>0</td>\n",
       "      <td>113803</td>\n",
       "      <td>53.1000</td>\n",
       "      <td>C123</td>\n",
       "      <td>S</td>\n",
       "    </tr>\n",
       "    <tr>\n",
       "      <th>5</th>\n",
       "      <td>0</td>\n",
       "      <td>3</td>\n",
       "      <td>Mr. William Henry</td>\n",
       "      <td>male</td>\n",
       "      <td>35.0</td>\n",
       "      <td>0</td>\n",
       "      <td>0</td>\n",
       "      <td>373450</td>\n",
       "      <td>8.0500</td>\n",
       "      <td>NaN</td>\n",
       "      <td>S</td>\n",
       "    </tr>\n",
       "    <tr>\n",
       "      <th>...</th>\n",
       "      <td>...</td>\n",
       "      <td>...</td>\n",
       "      <td>...</td>\n",
       "      <td>...</td>\n",
       "      <td>...</td>\n",
       "      <td>...</td>\n",
       "      <td>...</td>\n",
       "      <td>...</td>\n",
       "      <td>...</td>\n",
       "      <td>...</td>\n",
       "      <td>...</td>\n",
       "    </tr>\n",
       "    <tr>\n",
       "      <th>887</th>\n",
       "      <td>0</td>\n",
       "      <td>2</td>\n",
       "      <td>Rev. Juozas</td>\n",
       "      <td>male</td>\n",
       "      <td>27.0</td>\n",
       "      <td>0</td>\n",
       "      <td>0</td>\n",
       "      <td>211536</td>\n",
       "      <td>13.0000</td>\n",
       "      <td>NaN</td>\n",
       "      <td>S</td>\n",
       "    </tr>\n",
       "    <tr>\n",
       "      <th>888</th>\n",
       "      <td>1</td>\n",
       "      <td>1</td>\n",
       "      <td>Miss. Margaret Edith</td>\n",
       "      <td>female</td>\n",
       "      <td>19.0</td>\n",
       "      <td>0</td>\n",
       "      <td>0</td>\n",
       "      <td>112053</td>\n",
       "      <td>30.0000</td>\n",
       "      <td>B42</td>\n",
       "      <td>S</td>\n",
       "    </tr>\n",
       "    <tr>\n",
       "      <th>889</th>\n",
       "      <td>0</td>\n",
       "      <td>3</td>\n",
       "      <td>Miss. Catherine Helen \"Carrie\"</td>\n",
       "      <td>female</td>\n",
       "      <td>NaN</td>\n",
       "      <td>1</td>\n",
       "      <td>2</td>\n",
       "      <td>W./C. 6607</td>\n",
       "      <td>23.4500</td>\n",
       "      <td>NaN</td>\n",
       "      <td>S</td>\n",
       "    </tr>\n",
       "    <tr>\n",
       "      <th>890</th>\n",
       "      <td>1</td>\n",
       "      <td>1</td>\n",
       "      <td>Mr. Karl Howell</td>\n",
       "      <td>male</td>\n",
       "      <td>26.0</td>\n",
       "      <td>0</td>\n",
       "      <td>0</td>\n",
       "      <td>111369</td>\n",
       "      <td>30.0000</td>\n",
       "      <td>C148</td>\n",
       "      <td>C</td>\n",
       "    </tr>\n",
       "    <tr>\n",
       "      <th>891</th>\n",
       "      <td>0</td>\n",
       "      <td>3</td>\n",
       "      <td>Mr. Patrick</td>\n",
       "      <td>male</td>\n",
       "      <td>32.0</td>\n",
       "      <td>0</td>\n",
       "      <td>0</td>\n",
       "      <td>370376</td>\n",
       "      <td>7.7500</td>\n",
       "      <td>NaN</td>\n",
       "      <td>Q</td>\n",
       "    </tr>\n",
       "  </tbody>\n",
       "</table>\n",
       "<p>891 rows × 11 columns</p>\n",
       "</div>"
      ],
      "text/plain": [
       "             Survived  Pclass                                        Name  \\\n",
       "PassengerId                                                                 \n",
       "1                   0       3                             Mr. Owen Harris   \n",
       "2                   1       1  Mrs. John Bradley (Florence Briggs Thayer)   \n",
       "3                   1       3                                 Miss. Laina   \n",
       "4                   1       1          Mrs. Jacques Heath (Lily May Peel)   \n",
       "5                   0       3                           Mr. William Henry   \n",
       "...               ...     ...                                         ...   \n",
       "887                 0       2                                 Rev. Juozas   \n",
       "888                 1       1                        Miss. Margaret Edith   \n",
       "889                 0       3              Miss. Catherine Helen \"Carrie\"   \n",
       "890                 1       1                             Mr. Karl Howell   \n",
       "891                 0       3                                 Mr. Patrick   \n",
       "\n",
       "                Sex   Age  SibSp  Parch            Ticket     Fare Cabin  \\\n",
       "PassengerId                                                                \n",
       "1              male  22.0      1      0         A/5 21171   7.2500   NaN   \n",
       "2            female  38.0      1      0          PC 17599  71.2833   C85   \n",
       "3            female  26.0      0      0  STON/O2. 3101282   7.9250   NaN   \n",
       "4            female  35.0      1      0            113803  53.1000  C123   \n",
       "5              male  35.0      0      0            373450   8.0500   NaN   \n",
       "...             ...   ...    ...    ...               ...      ...   ...   \n",
       "887            male  27.0      0      0            211536  13.0000   NaN   \n",
       "888          female  19.0      0      0            112053  30.0000   B42   \n",
       "889          female   NaN      1      2        W./C. 6607  23.4500   NaN   \n",
       "890            male  26.0      0      0            111369  30.0000  C148   \n",
       "891            male  32.0      0      0            370376   7.7500   NaN   \n",
       "\n",
       "            Embarked  \n",
       "PassengerId           \n",
       "1                  S  \n",
       "2                  C  \n",
       "3                  S  \n",
       "4                  S  \n",
       "5                  S  \n",
       "...              ...  \n",
       "887                S  \n",
       "888                S  \n",
       "889                S  \n",
       "890                C  \n",
       "891                Q  \n",
       "\n",
       "[891 rows x 11 columns]"
      ]
     },
     "execution_count": 24,
     "metadata": {},
     "output_type": "execute_result"
    }
   ],
   "source": [
    "import pandas as pd\n",
    "titanic = pd.read_csv(\"dataframe/titanic.csv\")\n",
    "titanic = titanic.set_index('PassengerId') # We chose 'PassengerId' as our index column, because it start with 1 and easier for us to get reference\n",
    "titanic"
   ]
  },
  {
   "cell_type": "code",
   "execution_count": 25,
   "id": "5faa85e9-0b03-4395-a511-77a412f30973",
   "metadata": {},
   "outputs": [
    {
     "name": "stdout",
     "output_type": "stream",
     "text": [
      "The PassengerId of Mr. Robert William Norman is 235\n"
     ]
    }
   ],
   "source": [
    "rob_passengerid = int(titanic.loc[titanic[\"Name\"]==\"Mr. Robert William Norman\"].index[0]) # .loc could not directly get index('passengerID')\n",
    "\n",
    "print(\"The PassengerId of Mr. Robert William Norman is\",rob_passengerid)"
   ]
  },
  {
   "cell_type": "markdown",
   "id": "34dcb177-43a2-44ca-9b8c-51ca465b9430",
   "metadata": {},
   "source": [
    "## 🚢 Question 2 🚢\n",
    ">Compute **the percentage of survivors out of total number of passengers** and **the percentage of men and women out of total number of passengers**. \n",
    ">\n",
    ">Paste the answers below.\n",
    ">\n",
    "> Notes: Survived 0-No, 1-Yes"
   ]
  },
  {
   "cell_type": "code",
   "execution_count": 26,
   "id": "3d64e126-b7bf-4407-8815-161098e06f9b",
   "metadata": {},
   "outputs": [
    {
     "name": "stdout",
     "output_type": "stream",
     "text": [
      "The percentage of survivier out of total passenger is 38.0 %\n"
     ]
    }
   ],
   "source": [
    "percentage_of_total_survivor = round(titanic[\"Survived\"].sum()/len(titanic),2)# because 1 is survived and 0 is not survived, so the total survived is the sum of [\"Survived\"]\n",
    "\n",
    "print(\"The percentage of survivier out of total passenger is\",percentage_of_total_survivor*100,\"%\")"
   ]
  },
  {
   "cell_type": "code",
   "execution_count": 48,
   "id": "32d69762-0795-4d37-9494-e37fd90a2d58",
   "metadata": {},
   "outputs": [
    {
     "data": {
      "text/html": [
       "<div>\n",
       "<style scoped>\n",
       "    .dataframe tbody tr th:only-of-type {\n",
       "        vertical-align: middle;\n",
       "    }\n",
       "\n",
       "    .dataframe tbody tr th {\n",
       "        vertical-align: top;\n",
       "    }\n",
       "\n",
       "    .dataframe thead th {\n",
       "        text-align: right;\n",
       "    }\n",
       "</style>\n",
       "<table border=\"1\" class=\"dataframe\">\n",
       "  <thead>\n",
       "    <tr style=\"text-align: right;\">\n",
       "      <th></th>\n",
       "      <th>Name</th>\n",
       "    </tr>\n",
       "    <tr>\n",
       "      <th>Sex</th>\n",
       "      <th></th>\n",
       "    </tr>\n",
       "  </thead>\n",
       "  <tbody>\n",
       "    <tr>\n",
       "      <th>female</th>\n",
       "      <td>0.35</td>\n",
       "    </tr>\n",
       "    <tr>\n",
       "      <th>male</th>\n",
       "      <td>0.65</td>\n",
       "    </tr>\n",
       "  </tbody>\n",
       "</table>\n",
       "</div>"
      ],
      "text/plain": [
       "        Name\n",
       "Sex         \n",
       "female  0.35\n",
       "male    0.65"
      ]
     },
     "execution_count": 48,
     "metadata": {},
     "output_type": "execute_result"
    }
   ],
   "source": [
    "# to make it easier to check the result, below percentage cacluation would round 2 decimal\n",
    "\n",
    "round(titanic.groupby(\"Sex\").agg({\"Name\":\"count\"})/len(titanic),2) \n",
    "\n",
    "# first, we group by the same, with agg function to count the mumber of passenger according to gender, then we divided each of output with the total number of passenger"
   ]
  },
  {
   "cell_type": "markdown",
   "id": "391705be-d3d3-4a47-b177-1759384289ce",
   "metadata": {},
   "source": [
    "## 🚢 Question 3 🚢\n",
    ">Compute the **percentage of survivors by sex**\n",
    ">(i.e. the percentage of male passengers that survived and female passengers that survived) \n",
    ">\n",
    ">and **the sex distribution of survivors** (i.e. percentage of survivors that were men and percentage of survivors that were women). Paste the answers below."
   ]
  },
  {
   "cell_type": "code",
   "execution_count": 28,
   "id": "dcfd1e65-5352-47d0-a5a5-56fbe94e2f71",
   "metadata": {},
   "outputs": [
    {
     "data": {
      "text/html": [
       "<div>\n",
       "<style scoped>\n",
       "    .dataframe tbody tr th:only-of-type {\n",
       "        vertical-align: middle;\n",
       "    }\n",
       "\n",
       "    .dataframe tbody tr th {\n",
       "        vertical-align: top;\n",
       "    }\n",
       "\n",
       "    .dataframe thead th {\n",
       "        text-align: right;\n",
       "    }\n",
       "</style>\n",
       "<table border=\"1\" class=\"dataframe\">\n",
       "  <thead>\n",
       "    <tr style=\"text-align: right;\">\n",
       "      <th></th>\n",
       "      <th>Survived</th>\n",
       "    </tr>\n",
       "    <tr>\n",
       "      <th>Sex</th>\n",
       "      <th></th>\n",
       "    </tr>\n",
       "  </thead>\n",
       "  <tbody>\n",
       "    <tr>\n",
       "      <th>female</th>\n",
       "      <td>0.74</td>\n",
       "    </tr>\n",
       "    <tr>\n",
       "      <th>male</th>\n",
       "      <td>0.19</td>\n",
       "    </tr>\n",
       "  </tbody>\n",
       "</table>\n",
       "</div>"
      ],
      "text/plain": [
       "        Survived\n",
       "Sex             \n",
       "female      0.74\n",
       "male        0.19"
      ]
     },
     "execution_count": 28,
     "metadata": {},
     "output_type": "execute_result"
    }
   ],
   "source": [
    "# The Percentage of Survivors by Sex\n",
    "round(titanic.groupby(\"Sex\")[[\"Survived\"]].mean(),2)"
   ]
  },
  {
   "cell_type": "code",
   "execution_count": 29,
   "id": "056ce1b0-532c-4e76-ad74-c929a82094f5",
   "metadata": {},
   "outputs": [
    {
     "data": {
      "text/html": [
       "<div>\n",
       "<style scoped>\n",
       "    .dataframe tbody tr th:only-of-type {\n",
       "        vertical-align: middle;\n",
       "    }\n",
       "\n",
       "    .dataframe tbody tr th {\n",
       "        vertical-align: top;\n",
       "    }\n",
       "\n",
       "    .dataframe thead th {\n",
       "        text-align: right;\n",
       "    }\n",
       "</style>\n",
       "<table border=\"1\" class=\"dataframe\">\n",
       "  <thead>\n",
       "    <tr style=\"text-align: right;\">\n",
       "      <th></th>\n",
       "      <th>Survived</th>\n",
       "    </tr>\n",
       "    <tr>\n",
       "      <th>Sex</th>\n",
       "      <th></th>\n",
       "    </tr>\n",
       "  </thead>\n",
       "  <tbody>\n",
       "    <tr>\n",
       "      <th>female</th>\n",
       "      <td>0.68</td>\n",
       "    </tr>\n",
       "    <tr>\n",
       "      <th>male</th>\n",
       "      <td>0.32</td>\n",
       "    </tr>\n",
       "  </tbody>\n",
       "</table>\n",
       "</div>"
      ],
      "text/plain": [
       "        Survived\n",
       "Sex             \n",
       "female      0.68\n",
       "male        0.32"
      ]
     },
     "execution_count": 29,
     "metadata": {},
     "output_type": "execute_result"
    }
   ],
   "source": [
    "# The Sex Distribution of Survivors\n",
    "\n",
    "round(titanic.loc[titanic[\"Survived\"]==1].groupby(\"Sex\").agg({\"Survived\":\"sum\"})/titanic[\"Survived\"].sum(),2)\n",
    "\n",
    "# 1. we first use .loc to indexing survior of titanic\n",
    "# 2. we group by them by Sex, and calculate the number of survivor based on sex\n",
    "# 3. we divided them by the number of survivor by using the sum of titanic[\"Survived\"],because 1 is the survived."
   ]
  },
  {
   "cell_type": "markdown",
   "id": "32a8a9f3-38ac-4716-893d-9a808315fab8",
   "metadata": {},
   "source": [
    "## 🚢 Question 4 🚢\n",
    ">Display in a 2 x 2 DataFrame the probability of being male/female and surviving/not surviving.\n",
    ">One possible option:\n",
    "\n",
    "_ |Survived |Not Survived\n",
    ":-:|:-|-:\n",
    "Male|Male & Survived|Male & Not Survived\n",
    "Female|Female & Survived|Female & Not Survived"
   ]
  },
  {
   "cell_type": "code",
   "execution_count": 30,
   "id": "555f2804-8804-44a2-8bc5-e52ec455363d",
   "metadata": {},
   "outputs": [
    {
     "data": {
      "text/html": [
       "<div>\n",
       "<style scoped>\n",
       "    .dataframe tbody tr th:only-of-type {\n",
       "        vertical-align: middle;\n",
       "    }\n",
       "\n",
       "    .dataframe tbody tr th {\n",
       "        vertical-align: top;\n",
       "    }\n",
       "\n",
       "    .dataframe thead th {\n",
       "        text-align: right;\n",
       "    }\n",
       "</style>\n",
       "<table border=\"1\" class=\"dataframe\">\n",
       "  <thead>\n",
       "    <tr style=\"text-align: right;\">\n",
       "      <th>Survived</th>\n",
       "      <th>0</th>\n",
       "      <th>1</th>\n",
       "    </tr>\n",
       "    <tr>\n",
       "      <th>Sex</th>\n",
       "      <th></th>\n",
       "      <th></th>\n",
       "    </tr>\n",
       "  </thead>\n",
       "  <tbody>\n",
       "    <tr>\n",
       "      <th>female</th>\n",
       "      <td>0.09</td>\n",
       "      <td>0.26</td>\n",
       "    </tr>\n",
       "    <tr>\n",
       "      <th>male</th>\n",
       "      <td>0.53</td>\n",
       "      <td>0.12</td>\n",
       "    </tr>\n",
       "  </tbody>\n",
       "</table>\n",
       "</div>"
      ],
      "text/plain": [
       "Survived     0     1\n",
       "Sex                 \n",
       "female    0.09  0.26\n",
       "male      0.53  0.12"
      ]
     },
     "execution_count": 30,
     "metadata": {},
     "output_type": "execute_result"
    }
   ],
   "source": [
    "titanic_df = round(titanic.pivot_table(\n",
    "    index = \"Sex\",\n",
    "    columns=\"Survived\",\n",
    "    values= \"Name\",\n",
    "    aggfunc = \"count\")/len(titanic),2)\n",
    "\n",
    "titanic_df"
   ]
  },
  {
   "cell_type": "markdown",
   "id": "2c5e6c64-998a-46be-9661-77e1b3d417cd",
   "metadata": {},
   "source": [
    "## 🚢 Question 5 🚢\n",
    "> Display in a DataFrame the probability of survival/not survival of all combinations of sex and class.\n",
    ">\n",
    "> One possible option:\n",
    "\n",
    "_ |Pclass|Survived |Not Survived\n",
    ":-:|:-|-:|-: \n",
    "Male|1|Male & Survived & Class 1|Male & Not Survived & Class 1\n",
    "Male|2|Male & Survived & Class 2|Male & Not Survived & Class 2\n",
    "Male|3|Male & Survived & Class 3|Male & Not Survived & Class 3\n",
    "Female|1|Female & Survived & Class 1|Female & Not Survived & Class 1\n",
    "Female|2|Female & Survived & Class 2|Female & Not Survived & Class 2\n",
    "Female|3|Female & Survived & Class 3|Female & Not Survived & Class 3"
   ]
  },
  {
   "cell_type": "code",
   "execution_count": 31,
   "id": "82812384-3f61-42be-9300-605ddcf6f5eb",
   "metadata": {},
   "outputs": [
    {
     "data": {
      "text/html": [
       "<div>\n",
       "<style scoped>\n",
       "    .dataframe tbody tr th:only-of-type {\n",
       "        vertical-align: middle;\n",
       "    }\n",
       "\n",
       "    .dataframe tbody tr th {\n",
       "        vertical-align: top;\n",
       "    }\n",
       "\n",
       "    .dataframe thead th {\n",
       "        text-align: right;\n",
       "    }\n",
       "</style>\n",
       "<table border=\"1\" class=\"dataframe\">\n",
       "  <thead>\n",
       "    <tr style=\"text-align: right;\">\n",
       "      <th></th>\n",
       "      <th>Survived</th>\n",
       "      <th>0</th>\n",
       "      <th>1</th>\n",
       "    </tr>\n",
       "    <tr>\n",
       "      <th>Sex</th>\n",
       "      <th>Pclass</th>\n",
       "      <th></th>\n",
       "      <th></th>\n",
       "    </tr>\n",
       "  </thead>\n",
       "  <tbody>\n",
       "    <tr>\n",
       "      <th rowspan=\"3\" valign=\"top\">female</th>\n",
       "      <th>1</th>\n",
       "      <td>0.003</td>\n",
       "      <td>0.102</td>\n",
       "    </tr>\n",
       "    <tr>\n",
       "      <th>2</th>\n",
       "      <td>0.007</td>\n",
       "      <td>0.079</td>\n",
       "    </tr>\n",
       "    <tr>\n",
       "      <th>3</th>\n",
       "      <td>0.081</td>\n",
       "      <td>0.081</td>\n",
       "    </tr>\n",
       "    <tr>\n",
       "      <th rowspan=\"3\" valign=\"top\">male</th>\n",
       "      <th>1</th>\n",
       "      <td>0.086</td>\n",
       "      <td>0.051</td>\n",
       "    </tr>\n",
       "    <tr>\n",
       "      <th>2</th>\n",
       "      <td>0.102</td>\n",
       "      <td>0.019</td>\n",
       "    </tr>\n",
       "    <tr>\n",
       "      <th>3</th>\n",
       "      <td>0.337</td>\n",
       "      <td>0.053</td>\n",
       "    </tr>\n",
       "  </tbody>\n",
       "</table>\n",
       "</div>"
      ],
      "text/plain": [
       "Survived           0      1\n",
       "Sex    Pclass              \n",
       "female 1       0.003  0.102\n",
       "       2       0.007  0.079\n",
       "       3       0.081  0.081\n",
       "male   1       0.086  0.051\n",
       "       2       0.102  0.019\n",
       "       3       0.337  0.053"
      ]
     },
     "execution_count": 31,
     "metadata": {},
     "output_type": "execute_result"
    }
   ],
   "source": [
    "probability_of_survival = round(titanic.pivot_table(\n",
    "    index=[\"Sex\",\"Pclass\"], \n",
    "    columns='Survived',\n",
    "    values = \"Name\",\n",
    "    aggfunc=\"count\")/len(titanic),3)\n",
    "\n",
    "probability_of_survival"
   ]
  },
  {
   "cell_type": "markdown",
   "id": "0fa2315e-bd89-4e89-9758-e5b73dc05cba",
   "metadata": {},
   "source": [
    "# Part II More Insights on the Data🚢\n",
    "## Question 6\n",
    "\n",
    ">Present 3 insights about the dataset, each of them relating at least 3 different variables, and support them by code and numbers. Possible examples:\n",
    ">\n",
    ">-\"Men aged less than 18 were more/less likely to survive than the average passenger\" (Sex, Age, Survival)\n",
    "?\n",
    ">\n",
    ">-\"Women with no siblings or spouses paid on average a cheaper/pricier ticket than the average woman\" (Sex, SibSp, Fare)\n",
    ">\n",
    ">-\"Men with a title other than Mr. were more/less likely to have a known (i.e. non-missing) cabin than the average man\" (Sex, Name, Cabin)"
   ]
  },
  {
   "cell_type": "code",
   "execution_count": 32,
   "id": "606444dd-3cfc-431b-90ac-d4841c4893dd",
   "metadata": {
    "tags": []
   },
   "outputs": [
    {
     "name": "stdout",
     "output_type": "stream",
     "text": [
      "<class 'pandas.core.frame.DataFrame'>\n",
      "Int64Index: 891 entries, 1 to 891\n",
      "Data columns (total 11 columns):\n",
      " #   Column    Non-Null Count  Dtype  \n",
      "---  ------    --------------  -----  \n",
      " 0   Survived  891 non-null    int64  \n",
      " 1   Pclass    891 non-null    int64  \n",
      " 2   Name      891 non-null    object \n",
      " 3   Sex       891 non-null    object \n",
      " 4   Age       714 non-null    float64\n",
      " 5   SibSp     891 non-null    int64  \n",
      " 6   Parch     891 non-null    int64  \n",
      " 7   Ticket    891 non-null    object \n",
      " 8   Fare      891 non-null    float64\n",
      " 9   Cabin     204 non-null    object \n",
      " 10  Embarked  889 non-null    object \n",
      "dtypes: float64(2), int64(4), object(5)\n",
      "memory usage: 83.5+ KB\n"
     ]
    }
   ],
   "source": [
    "titanic.info() # Check the columns, we could each column how many value missing "
   ]
  },
  {
   "cell_type": "markdown",
   "id": "a324282d-32ae-4fe4-9e8f-2968fdcae495",
   "metadata": {
    "tags": []
   },
   "source": [
    "### 🚢Insight 1 - Age, `Title` from Name , Fare\n",
    ">\n",
    ">Goal: Try to understand if Age would matter among \"Mr\"& \"Miss\" when they paid their fare\n",
    "\n",
    "#### Conclusion⭐️\n",
    "**<span style='background :#03CEA4' > From Title \"Miss\" and \"Mr\" as the age go higher, they would paid more fare in average</span>**\n",
    ">>\n",
    ">>> As passengers with the titles “Miss.\" and \"Mr.\" grew older, they had more purchasing power and spent more on their ticket fare in average i.e.  (Miss [0,18] is _33.4_ vs _78.0_ Miss [58,80]). \n",
    "\n",
    ">>> At the same time, the average purchasing power of all passengers with the title Miss was 2.1 time higher than the average purchasing power of passengers with the title Mr. (58.4 vs 27.4).\n"
   ]
  },
  {
   "cell_type": "code",
   "execution_count": 33,
   "id": "6dcc7ce6-3692-4230-a1e8-dfaef4997826",
   "metadata": {
    "tags": []
   },
   "outputs": [],
   "source": [
    "# First we want to clean Age Data, we first use the mean of age to fill the missing value in age column and then divided them into four groups\n",
    "\n",
    "titanic[\"Age\"].isnull().sum() #177 value is missing\n",
    "\n",
    "titanic[\"Age\"] = titanic['Age'].fillna(titanic[\"Age\"].mean()) \n",
    "#fill missing value with average age\n",
    "\n",
    "titanic[\"Age_Range\"] = pd.cut(titanic[\"Age\"], [0, 18, 38, 58, 80])\n",
    "# age range divided into (0,18],(18,38],(38,58],(58,80]\n",
    "\n",
    "#titanic"
   ]
  },
  {
   "cell_type": "code",
   "execution_count": 34,
   "id": "a7b8f5a1-6453-41f4-8496-cb41ee24c73c",
   "metadata": {},
   "outputs": [],
   "source": [
    "# Titale from Name, extract title from name\n",
    "titile = titanic[\"Name\"].str.split(\".\", n = -1, expand = True)  # split the name from their title \n",
    "#.str.split -->  n= -1 will be interpreted as return all splits\n",
    "#.str.split --> Expand the split strings into separate columns. If True, return DataFrame/MultiIndex expanding dimensionality.\n",
    "titanic[\"Title\"] = titile[0]\n",
    "\n",
    "titanic.groupby(\"Title\")[\"Name\"].count().sort_values(ascending= False).head(2) # Mr, Miss have the most frequent\n",
    "\n",
    "\n",
    "titanic_title = titanic[(titanic[\"Title\"] ==\"Miss\") | (titanic[\"Title\"] ==\"Mr\")] # extract only Title with \"Mr\" & \"Miss\" data\n"
   ]
  },
  {
   "cell_type": "code",
   "execution_count": 35,
   "id": "60dc13bc-d204-456f-8bef-9eff61cfca93",
   "metadata": {},
   "outputs": [
    {
     "data": {
      "text/html": [
       "<div>\n",
       "<style scoped>\n",
       "    .dataframe tbody tr th:only-of-type {\n",
       "        vertical-align: middle;\n",
       "    }\n",
       "\n",
       "    .dataframe tbody tr th {\n",
       "        vertical-align: top;\n",
       "    }\n",
       "\n",
       "    .dataframe thead th {\n",
       "        text-align: right;\n",
       "    }\n",
       "</style>\n",
       "<table border=\"1\" class=\"dataframe\">\n",
       "  <thead>\n",
       "    <tr style=\"text-align: right;\">\n",
       "      <th>Age_Range</th>\n",
       "      <th>(0, 18]</th>\n",
       "      <th>(18, 38]</th>\n",
       "      <th>(38, 58]</th>\n",
       "      <th>(58, 80]</th>\n",
       "    </tr>\n",
       "    <tr>\n",
       "      <th>Title</th>\n",
       "      <th></th>\n",
       "      <th></th>\n",
       "      <th></th>\n",
       "      <th></th>\n",
       "    </tr>\n",
       "  </thead>\n",
       "  <tbody>\n",
       "    <tr>\n",
       "      <th>Miss</th>\n",
       "      <td>33.4</td>\n",
       "      <td>45.7</td>\n",
       "      <td>76.7</td>\n",
       "      <td>78.0</td>\n",
       "    </tr>\n",
       "    <tr>\n",
       "      <th>Mr</th>\n",
       "      <td>21.6</td>\n",
       "      <td>23.2</td>\n",
       "      <td>28.2</td>\n",
       "      <td>36.8</td>\n",
       "    </tr>\n",
       "  </tbody>\n",
       "</table>\n",
       "</div>"
      ],
      "text/plain": [
       "Age_Range  (0, 18]  (18, 38]  (38, 58]  (58, 80]\n",
       "Title                                           \n",
       "Miss          33.4      45.7      76.7      78.0\n",
       "Mr            21.6      23.2      28.2      36.8"
      ]
     },
     "execution_count": 35,
     "metadata": {},
     "output_type": "execute_result"
    }
   ],
   "source": [
    "table_age_title_fare = round(titanic_title.pivot_table(\n",
    "    columns = \"Age_Range\",\n",
    "    index= \"Title\",\n",
    "    values = \"Fare\",\n",
    "    aggfunc = \"mean\"\n",
    "),1)\n",
    "table_age_title_fare"
   ]
  },
  {
   "cell_type": "code",
   "execution_count": 36,
   "id": "fb35011b-5724-43d0-86fd-63852dc372b7",
   "metadata": {},
   "outputs": [
    {
     "data": {
      "text/plain": [
       "<AxesSubplot:title={'center':'Age, Title, Average Fare'}, xlabel='Title'>"
      ]
     },
     "execution_count": 36,
     "metadata": {},
     "output_type": "execute_result"
    },
    {
     "data": {
      "image/png": "[encoded data removed]",
      "text/plain": [
       "<Figure size 432x288 with 1 Axes>"
      ]
     },
     "metadata": {
      "needs_background": "light"
     },
     "output_type": "display_data"
    }
   ],
   "source": [
    "table_age_title_fare.plot(kind=\"bar\",title= \"Age, Title, Average Fare\")"
   ]
  },
  {
   "cell_type": "markdown",
   "id": "5960f98f-358c-4ec3-af96-7de365ad8541",
   "metadata": {},
   "source": [
    "### 🚢Insight 2 - Embarked , `Cabin_Position` from Cabin , Survival\n",
    "> Embarked Port: S- Southampton, C- Cherbourg, and Q- Queenstown. \n",
    ">\n",
    "> Goal: We would like to know would the Port of Embarked and Cabin Position would matter with the survival rate\n",
    "#### Conclusion⭐️\n",
    "**<span style='background :#03CEA4' > People who embarked S port and located in C cabin have highest survival rate</span>**\n"
   ]
  },
  {
   "cell_type": "code",
   "execution_count": 37,
   "id": "09f19690-1dfd-438d-8799-476d9afa8dec",
   "metadata": {},
   "outputs": [],
   "source": [
    "# Data Cleasing ['Embarked']\n",
    "\n",
    "titanic[\"Embarked\"].describe() \n",
    "# Since we have total 891 passengers and Embarded only have 889\n",
    "# we are going to use the most frequent value S Port to impute, because it is categorical varibale\n",
    "\n",
    "titanic['Embarked']=titanic['Embarked'].fillna('S') # we fill it with Mode \"S\"\n"
   ]
  },
  {
   "cell_type": "code",
   "execution_count": 38,
   "id": "5a8596e9-c65c-46f7-b997-66dc2ea8fef2",
   "metadata": {},
   "outputs": [
    {
     "name": "stderr",
     "output_type": "stream",
     "text": [
      "<ipython-input-38-6155e9c0191e>:3: SettingWithCopyWarning: \n",
      "A value is trying to be set on a copy of a slice from a DataFrame.\n",
      "Try using .loc[row_indexer,col_indexer] = value instead\n",
      "\n",
      "See the caveats in the documentation: https://pandas.pydata.org/pandas-docs/stable/user_guide/indexing.html#returning-a-view-versus-a-copy\n",
      "  cabin_titanic[\"Cabin_Position\"]=cabin_titanic[\"Cabin\"].str[0] # only get the First value of Cabin, as Cabin Position\n"
     ]
    }
   ],
   "source": [
    "cabin_titanic = titanic.dropna(subset=[\"Cabin\"]) # drop all the row that Null value in column ['Cabin']\n",
    "\n",
    "cabin_titanic[\"Cabin_Position\"]=cabin_titanic[\"Cabin\"].str[0] # only get the First value of Cabin, as Cabin Position\n",
    "\n",
    "cabin_survived=cabin_titanic.loc[cabin_titanic[\"Survived\"]==1] # The number of people who survived in the cabin (136 out of 204 passengers)\n"
   ]
  },
  {
   "cell_type": "code",
   "execution_count": 39,
   "id": "d8d63b3d-d1b8-4457-a9df-5da16a06baa1",
   "metadata": {},
   "outputs": [
    {
     "data": {
      "text/html": [
       "<div>\n",
       "<style scoped>\n",
       "    .dataframe tbody tr th:only-of-type {\n",
       "        vertical-align: middle;\n",
       "    }\n",
       "\n",
       "    .dataframe tbody tr th {\n",
       "        vertical-align: top;\n",
       "    }\n",
       "\n",
       "    .dataframe thead th {\n",
       "        text-align: right;\n",
       "    }\n",
       "</style>\n",
       "<table border=\"1\" class=\"dataframe\">\n",
       "  <thead>\n",
       "    <tr style=\"text-align: right;\">\n",
       "      <th></th>\n",
       "      <th></th>\n",
       "      <th>Survived</th>\n",
       "    </tr>\n",
       "    <tr>\n",
       "      <th>Embarked</th>\n",
       "      <th>Cabin_Position</th>\n",
       "      <th></th>\n",
       "    </tr>\n",
       "  </thead>\n",
       "  <tbody>\n",
       "    <tr>\n",
       "      <th rowspan=\"6\" valign=\"top\">C</th>\n",
       "      <th>A</th>\n",
       "      <td>0.029</td>\n",
       "    </tr>\n",
       "    <tr>\n",
       "      <th>B</th>\n",
       "      <td>0.125</td>\n",
       "    </tr>\n",
       "    <tr>\n",
       "      <th>C</th>\n",
       "      <td>0.103</td>\n",
       "    </tr>\n",
       "    <tr>\n",
       "      <th>D</th>\n",
       "      <td>0.081</td>\n",
       "    </tr>\n",
       "    <tr>\n",
       "      <th>E</th>\n",
       "      <td>0.037</td>\n",
       "    </tr>\n",
       "    <tr>\n",
       "      <th>F</th>\n",
       "      <td>0.007</td>\n",
       "    </tr>\n",
       "    <tr>\n",
       "      <th rowspan=\"2\" valign=\"top\">Q</th>\n",
       "      <th>C</th>\n",
       "      <td>0.007</td>\n",
       "    </tr>\n",
       "    <tr>\n",
       "      <th>E</th>\n",
       "      <td>0.007</td>\n",
       "    </tr>\n",
       "    <tr>\n",
       "      <th rowspan=\"7\" valign=\"top\">S</th>\n",
       "      <th>A</th>\n",
       "      <td>0.022</td>\n",
       "    </tr>\n",
       "    <tr>\n",
       "      <th>B</th>\n",
       "      <td>0.132</td>\n",
       "    </tr>\n",
       "    <tr>\n",
       "      <th>C</th>\n",
       "      <td>0.147</td>\n",
       "    </tr>\n",
       "    <tr>\n",
       "      <th>D</th>\n",
       "      <td>0.103</td>\n",
       "    </tr>\n",
       "    <tr>\n",
       "      <th>E</th>\n",
       "      <td>0.132</td>\n",
       "    </tr>\n",
       "    <tr>\n",
       "      <th>F</th>\n",
       "      <td>0.051</td>\n",
       "    </tr>\n",
       "    <tr>\n",
       "      <th>G</th>\n",
       "      <td>0.015</td>\n",
       "    </tr>\n",
       "  </tbody>\n",
       "</table>\n",
       "</div>"
      ],
      "text/plain": [
       "                         Survived\n",
       "Embarked Cabin_Position          \n",
       "C        A                  0.029\n",
       "         B                  0.125\n",
       "         C                  0.103\n",
       "         D                  0.081\n",
       "         E                  0.037\n",
       "         F                  0.007\n",
       "Q        C                  0.007\n",
       "         E                  0.007\n",
       "S        A                  0.022\n",
       "         B                  0.132\n",
       "         C                  0.147\n",
       "         D                  0.103\n",
       "         E                  0.132\n",
       "         F                  0.051\n",
       "         G                  0.015"
      ]
     },
     "execution_count": 39,
     "metadata": {},
     "output_type": "execute_result"
    }
   ],
   "source": [
    "cabin_survived_chart = round(cabin_survived.groupby([\"Embarked\",\"Cabin_Position\"]).agg({\"Survived\":\"count\"})/len(cabin_survived),3)\n",
    "cabin_survived_chart"
   ]
  },
  {
   "cell_type": "code",
   "execution_count": 40,
   "id": "b5d0db19-420c-4015-9e4a-b32a2f90a6a9",
   "metadata": {},
   "outputs": [
    {
     "data": {
      "image/png": "[encoded data removed]",
      "text/plain": [
       "<Figure size 432x288 with 1 Axes>"
      ]
     },
     "metadata": {
      "needs_background": "light"
     },
     "output_type": "display_data"
    }
   ],
   "source": [
    "cabin_survived_chart = cabin_survived_chart.plot(kind=\"bar\",title= \"Embarked, Cabin_Position with Survival\")"
   ]
  },
  {
   "cell_type": "markdown",
   "id": "0100c8f9-ac31-4607-b95f-b573056375d7",
   "metadata": {
    "tags": []
   },
   "source": [
    "### 🚢Insight 3 - If Alone (From 'SibSp` and `Parch`)🕵🏻‍♂️ , Survive , Sex \n",
    ">\n",
    "> We combine 'SibSp' and 'Parch' as Family size and create a new comlumn called IfAlone \n",
    ">\n",
    "> Goal: To check if Different Gender being alone would affect their survival\n",
    "\n",
    "#### Conclusion⭐️\n",
    "**<span style='background :#03CEA4' > Men who is alone in Titanic are more likly to die</span>**\n",
    "\n",
    ">>A male who traveled alone on the Titanic was 2.8x times more prone to dying (63% vs 22%), while females who were not alone were 2.0x times more likely to die (5% vs 10%). \n",
    "\n",
    ">>  From prior knowledge, we also knew that the female passenger survival rate was 5.6x higher than male passenger survival rate.\n"
   ]
  },
  {
   "cell_type": "code",
   "execution_count": 41,
   "id": "7721bf73-802f-4a52-bf4f-d4aa1c04c576",
   "metadata": {},
   "outputs": [],
   "source": [
    "titanic[\"FamilySize\"] = titanic[\"SibSp\"]+ titanic[\"Parch\"]\n",
    "titanic[\"IfAlone\"]=\"Alone\" # if  alone\n",
    "titanic.loc[titanic[\"FamilySize\"]>0, \"IfAlone\"] = \"Not Alone\" #if not alone"
   ]
  },
  {
   "cell_type": "code",
   "execution_count": 42,
   "id": "e759e757-68c0-46b1-8eba-4524030413aa",
   "metadata": {},
   "outputs": [
    {
     "data": {
      "text/html": [
       "<div>\n",
       "<style scoped>\n",
       "    .dataframe tbody tr th:only-of-type {\n",
       "        vertical-align: middle;\n",
       "    }\n",
       "\n",
       "    .dataframe tbody tr th {\n",
       "        vertical-align: top;\n",
       "    }\n",
       "\n",
       "    .dataframe thead th {\n",
       "        text-align: right;\n",
       "    }\n",
       "</style>\n",
       "<table border=\"1\" class=\"dataframe\">\n",
       "  <thead>\n",
       "    <tr style=\"text-align: right;\">\n",
       "      <th>Sex</th>\n",
       "      <th>female</th>\n",
       "      <th>male</th>\n",
       "    </tr>\n",
       "    <tr>\n",
       "      <th>IfAlone</th>\n",
       "      <th></th>\n",
       "      <th></th>\n",
       "    </tr>\n",
       "  </thead>\n",
       "  <tbody>\n",
       "    <tr>\n",
       "      <th>Alone</th>\n",
       "      <td>0.05</td>\n",
       "      <td>0.63</td>\n",
       "    </tr>\n",
       "    <tr>\n",
       "      <th>Not Alone</th>\n",
       "      <td>0.10</td>\n",
       "      <td>0.22</td>\n",
       "    </tr>\n",
       "  </tbody>\n",
       "</table>\n",
       "</div>"
      ],
      "text/plain": [
       "Sex        female  male\n",
       "IfAlone                \n",
       "Alone        0.05  0.63\n",
       "Not Alone    0.10  0.22"
      ]
     },
     "execution_count": 42,
     "metadata": {},
     "output_type": "execute_result"
    }
   ],
   "source": [
    "titanic_death = titanic.loc[titanic[\"Survived\"] == 0]\n",
    "piv_death_alone= round(pd.pivot_table(\n",
    "    data = titanic_death, \n",
    "    values = \"Name\",\n",
    "    index= \"IfAlone\",\n",
    "    columns = \"Sex\",\n",
    "    aggfunc = \"count\")/len(titanic_death),2)\n",
    "piv_death_alone"
   ]
  },
  {
   "cell_type": "code",
   "execution_count": 44,
   "id": "493009b4-b86f-4244-ac1e-af886db46610",
   "metadata": {},
   "outputs": [
    {
     "data": {
      "text/plain": [
       "<AxesSubplot:title={'center':'IfAone, Gender with Survival '}, xlabel='IfAlone'>"
      ]
     },
     "execution_count": 44,
     "metadata": {},
     "output_type": "execute_result"
    },
    {
     "data": {
      "image/png": "[encoded data removed]",
      "text/plain": [
       "<Figure size 432x288 with 1 Axes>"
      ]
     },
     "metadata": {
      "needs_background": "light"
     },
     "output_type": "display_data"
    }
   ],
   "source": [
    "piv_death_alone.plot(kind=\"bar\",title= \"IfAone, Gender with Survival \")"
   ]
  }
 ],
 "metadata": {
  "kernelspec": {
   "display_name": "Python 3",
   "language": "python",
   "name": "python3"
  },
  "language_info": {
   "codemirror_mode": {
    "name": "ipython",
    "version": 3
   },
   "file_extension": ".py",
   "mimetype": "text/x-python",
   "name": "python",
   "nbconvert_exporter": "python",
   "pygments_lexer": "ipython3",
   "version": "3.8.8"
  }
 },
 "nbformat": 4,
 "nbformat_minor": 5
}
